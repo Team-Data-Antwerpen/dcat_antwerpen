{
 "cells": [
  {
   "cell_type": "code",
   "execution_count": 9,
   "metadata": {},
   "outputs": [],
   "source": [
    "## pip install rdflib\n",
    "from rdflib import Graph, URIRef, Namespace, Literal, BNode\n",
    "from rdflib.namespace import RDF, FOAF\n",
    "AGS_PORT = \"https://portaal-stadantwerpen.opendata.arcgis.com/data.jsonld\"\n",
    "AOD_LIC = \"https://www.antwerpen.be/info/5c9c967180779f42723823c9/gratis-open-data-licentie\"\n",
    "CONTACT = \"gis@antwerpen.be\"\n",
    "HOME_URL = \"https://antwerpen.be\""
   ]
  },
  {
   "cell_type": "code",
   "execution_count": 10,
   "metadata": {},
   "outputs": [],
   "source": [
    "def dcat_theme(keywords=[]):\n",
    "    \"Find theme using keywords\"\n",
    "    for key in keywords:\n",
    "        if key.lower() == \"economie\":\n",
    "            return Literal('Economie') #URIRef(\"http://vocab.belgif.be/auth/datatheme/ECON\")\n",
    "        elif key.lower() in [\"cultuur\", \"sport\" ]:\n",
    "            return Literal('Cultuur') #URIRef(\"http://vocab.belgif.be/auth/datatheme/CULT\")\n",
    "        elif key.lower() == \"onderwijs\":\n",
    "            return Literal('Onderwijs') #URIRef(\"http://vocab.belgif.be/auth/datatheme/EDUC\")\n",
    "        elif key.lower() in [\"afval\", \"bodem\", \"milieu\", \"groeninventaris\"]:\n",
    "            return Literal('Milieu') #URIRef(\"http://vocab.belgif.be/auth/datatheme/ENVI\")\n",
    "        elif key.lower() in [\"publieke diensten\"]:\n",
    "            return Literal('Overheid') #URIRef(\"http://vocab.belgif.be/auth/datatheme/GOVE\")\n",
    "        elif key.lower() == \"zorg\":\n",
    "            return Literal('Gezondheidszorg') #URIRef(\"http://vocab.belgif.be/auth/datatheme/HEAL\")\n",
    "        elif key.lower() in [\"grenzen\", \"structuurplan\"]:\n",
    "            return Literal('Grenzen') #URIRef(\"http://vocab.belgif.be/auth/datatheme/REGI\")\n",
    "        elif key.lower() == \"mobiliteit\":\n",
    "            return Literal('Transport en Mobiliteit') #URIRef(\"http://vocab.belgif.be/auth/datatheme/TRAN\")   \n",
    "    return Literal('geospatial')"
   ]
  },
  {
   "cell_type": "code",
   "execution_count": 11,
   "metadata": {},
   "outputs": [],
   "source": [
    "## read graph and namespaces\n",
    "g = Graph()\n",
    "g.parse(AGS_PORT, format='json-ld')\n",
    "dc = Namespace( \"http://purl.org/dc/terms/\" )\n",
    "dcat = Namespace(\"http://www.w3.org/ns/dcat#\")\n",
    "g.namespace_manager.bind(\"foaf\", FOAF)\n",
    "g.namespace_manager.bind(\"dcat\", URIRef(\"http://www.w3.org/ns/dcat#\"))\n",
    "g.namespace_manager.bind(\"dc\", URIRef(\"http://purl.org/dc/terms/\") )"
   ]
  },
  {
   "cell_type": "code",
   "execution_count": 12,
   "metadata": {},
   "outputs": [
    {
     "data": {
      "text/plain": [
       "<Graph identifier=Nad9f36b22e75456cb32f0f612a1db19c (<class 'rdflib.graph.Graph'>)>"
      ]
     },
     "execution_count": 12,
     "metadata": {},
     "output_type": "execute_result"
    }
   ],
   "source": [
    "## add license\n",
    "g.add( [URIRef(AOD_LIC), RDF.type, dc.LicenseDocument ] ) \n",
    "g.add( [URIRef(AOD_LIC), dc.type, Literal(\"Public domain\") ] ) \n",
    "g.add( (URIRef(HOME_URL), RDF.type, FOAF.Agent ) )\n",
    "g.add( (URIRef(HOME_URL), FOAF.name, Literal('Stad Antwerpen') ) )"
   ]
  },
  {
   "cell_type": "code",
   "execution_count": 13,
   "metadata": {},
   "outputs": [],
   "source": [
    "## add extra properties of the catalog\n",
    "s2uri = URIRef(\"https://s3-ant1.antwerpen.be/prd-open-data-datatank/DCAT/dcat.xml\")\n",
    "\n",
    "for s, p, o in g.triples(( None,  RDF.type, dcat.Catalog )):\n",
    "    \n",
    "    g.add( (s2uri, p, o))\n",
    "    for s2, p2, o2 in g.triples(( s,  None, None )):\n",
    "        g.add( (s2uri, p2, o2))\n",
    "    g.remove((s, None, None))\n",
    "    \n",
    "    g.add( (s2uri, dc.title, Literal(\"Opendata portaal Antwerpen\")  ) )\n",
    "    g.add( (s2uri, dc.description, Literal(\"\"\"De stad Antwerpen beschikt over een schat aan geografische data over de stad. \n",
    "Via dit portaal wordt u de mogelijkheid geboden om deze geografische data te verkennen, \n",
    "visualiseren en te downloaden. Deze data is open data en mag u vrij en kosteloos gebruiken. \n",
    "Met de datasets kunt u bijvoorbeeld nieuwe mobiele toepassingen ontwikkelen die de dienstverlening voor bewoners kunnen verbeteren. \n",
    "Ontdek de data door hieronder te zoeken op de verschillende thema’s of door een trefwoord in te vullen.\"\"\") ) )\n",
    "    g.add( (s2uri , dc.publisher , Literal(\"Stad Antwerpen\")  ) )\n",
    "    g.add( (s2uri , dc.license , URIRef(AOD_LIC)  ) )\n",
    "    g.add( (s2uri , dc.language , URIRef(\"http://id.loc.gov/vocabulary/iso639-1/nl\")  ) )\n",
    "    "
   ]
  },
  {
   "cell_type": "code",
   "execution_count": 14,
   "metadata": {},
   "outputs": [],
   "source": [
    "# ## add extra properties of the Datasets\n",
    "# for s, p, o in g.triples(( None, RDF.type, dcat.Dataset)):\n",
    "#     keyw = [str(t[2]) for t in g.triples(( s,  dcat.keyword, None))]\n",
    "#     uri = g.value(s, dc.identifier)\n",
    "#     g.add( (uri, RDF.type, dcat.Dataset))\n",
    "#     g.add( (uri, dc.language , URIRef(\"http://id.loc.gov/vocabulary/iso639-1/nl\") ) )\n",
    "#     g.add( (uri, dcat.theme, dcat_theme(keyw) ))\n",
    "    \n",
    "#     for s2, p2, o2 in g.triples(( s, None , None )):\n",
    "#         g.add( (uri, p2, o2))\n",
    "\n",
    "#     g.set( (uri , dc.license , URIRef(AOD_LIC)  ) )\n",
    "\n",
    "#     g.add(( s2uri,  dcat.dataset , uri  ))\n",
    "#     g.remove((s2uri,  dcat.dataset , s ))\n",
    "#     g.remove((s, None, None))\n",
    "# print(keyw, uri)"
   ]
  },
  {
   "cell_type": "code",
   "execution_count": 15,
   "metadata": {},
   "outputs": [],
   "source": [
    "## write xml\n",
    "n3 = g.serialize(format='application/rdf+xml', indent=4)\n",
    "with open(\"dcat.xml\", 'w', encoding='utf-8' ) as f:\n",
    "    f.write(n3)"
   ]
  }
 ],
 "metadata": {
  "interpreter": {
   "hash": "ecf5722fdaf1897a315d257d89d94520bfcaa453217d5becf09b39e73618b0de"
  },
  "kernelspec": {
   "display_name": "Python 3.9.9 ('base')",
   "language": "python",
   "name": "python3"
  },
  "language_info": {
   "codemirror_mode": {
    "name": "ipython",
    "version": 3
   },
   "file_extension": ".py",
   "mimetype": "text/x-python",
   "name": "python",
   "nbconvert_exporter": "python",
   "pygments_lexer": "ipython3",
   "version": "3.9.9"
  },
  "orig_nbformat": 4
 },
 "nbformat": 4,
 "nbformat_minor": 2
}
